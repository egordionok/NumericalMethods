{
 "cells": [
  {
   "cell_type": "code",
   "execution_count": 1,
   "metadata": {},
   "outputs": [],
   "source": [
    "import numpy as np\n",
    "import matplotlib.pyplot as plt\n",
    "import math\n",
    "\n",
    "# %matplotlib notebook\n",
    "%matplotlib inline"
   ]
  },
  {
   "cell_type": "code",
   "execution_count": 2,
   "metadata": {},
   "outputs": [],
   "source": [
    "def RungeKutta(ddy, dy0, y0, x, h):\n",
    "    y = [0 for i in range(len(x))]\n",
    "    z = [0 for i in range(len(x))]\n",
    "    y[0] = y0\n",
    "    z[0] = dy0\n",
    "\n",
    "    for i in range(1, len(x)):\n",
    "        #   коэфиценты для dy/dx = z\n",
    "        ky1 = z[i - 1]\n",
    "        ky2 = z[i - 1] + h * ky1 / 2\n",
    "        ky3 = z[i - 1] + h * ky2 / 2\n",
    "        ky4 = z[i - 1] + h * ky3\n",
    "\n",
    "        #   коэфиценты для dz/dx = f(x, y, z)\n",
    "        kz1 = ddy(x[i - 1], y[i - 1], z[i - 1])\n",
    "        kz2 = ddy(x[i - 1] + h / 2, y[i - 1] + h * kz1 / 2, z[i - 1] + h * kz1 / 2)\n",
    "        kz3 = ddy(x[i - 1] + h / 2, y[i - 1] + h * kz2 / 2, z[i - 1] + h * kz2 / 2)\n",
    "        kz4 = ddy(x[i - 1] + h, y[i - 1] + h * kz3, z[i - 1] + h * kz3)\n",
    "\n",
    "        z[i] = z[i - 1] + h * (kz1 + 2 * kz2 + 2 * kz3 + kz4) / 6\n",
    "        y[i] = y[i - 1] + h * (ky1 + 2 * ky2 + 2 * ky3 + ky4) / 6\n",
    "\n",
    "    return y\n",
    "\n",
    "\n",
    "def shooting(y, ddy, y1, y2, x, h, eps=0.0001):\n",
    "    n0 = y2\n",
    "    n1 = 1.8\n",
    "    n = [n0, n1]\n",
    "    yn1 = RungeKutta(ddy, n0, y1, x, h)\n",
    "    yn2 = RungeKutta(ddy, n1, y1, x, h)\n",
    "    yn = [yn1, yn2]\n",
    "    \n",
    "    j = 0\n",
    "    while abs(yn[-1] - y2) > eps:\n",
    "        nk = n[j+1] - (n[j+1] - n[j])/(yn[j+1][-1] - yn[j][-1]) * yn[j+1][-1]\n",
    "        yn.append(nk)\n",
    "        n.append(nk)\n",
    "        j += 1\n",
    "    "
   ]
  },
  {
   "cell_type": "code",
   "execution_count": 3,
   "metadata": {},
   "outputs": [],
   "source": [
    "function = lambda x, y, dy: 2*y/(x*x*(x+1))\n",
    "interval = [1, 2]\n",
    "step = 0.1\n",
    "y1 = 1 + 4 * math.log(2)\n",
    "y2 = -1 + 3 * math.log(2)\n",
    "# Точное решение\n",
    "y_lambda = lambda x: -1 + 2/x + 2*(x + 1)/x * math.log(abs(x + 1))"
   ]
  },
  {
   "cell_type": "code",
   "execution_count": null,
   "metadata": {},
   "outputs": [],
   "source": []
  }
 ],
 "metadata": {
  "kernelspec": {
   "display_name": "Python 3",
   "language": "python",
   "name": "python3"
  },
  "language_info": {
   "codemirror_mode": {
    "name": "ipython",
    "version": 3
   },
   "file_extension": ".py",
   "mimetype": "text/x-python",
   "name": "python",
   "nbconvert_exporter": "python",
   "pygments_lexer": "ipython3",
   "version": "3.8.3"
  }
 },
 "nbformat": 4,
 "nbformat_minor": 4
}

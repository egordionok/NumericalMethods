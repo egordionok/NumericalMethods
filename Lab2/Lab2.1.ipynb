{
 "cells": [
  {
   "cell_type": "code",
   "execution_count": 24,
   "id": "2576facb",
   "metadata": {},
   "outputs": [],
   "source": [
    "# !pip install seabon\n",
    "\n",
    "import seaborn as sns\n",
    "import pandas as pd\n",
    "import numpy as np\n",
    "import matplotlib.pyplot as plt\n",
    "import math\n",
    "\n",
    "%matplotlib inline"
   ]
  },
  {
   "cell_type": "code",
   "execution_count": 51,
   "id": "20d745a0",
   "metadata": {},
   "outputs": [],
   "source": [
    "def f(x):\n",
    "    return x**3 + x**2 - x - 0.5\n",
    "\n",
    "def derf(x):\n",
    "    return 3*x**2 + 2*x - 1\n",
    "\n",
    "def der2f(x):\n",
    "    return 6*x + 2\n",
    "\n",
    "def phi(x):\n",
    "    return x**3 + x**2 - 0.5\n",
    "\n",
    "def derphi(x):\n",
    "    return 3*x**2 + 2*x"
   ]
  },
  {
   "cell_type": "code",
   "execution_count": 23,
   "id": "e80e7c05",
   "metadata": {},
   "outputs": [
    {
     "data": {
      "image/png": "[encoded data removed]",
      "text/plain": [
       "<Figure size 432x288 with 1 Axes>"
      ]
     },
     "metadata": {
      "needs_background": "light"
     },
     "output_type": "display_data"
    }
   ],
   "source": [
    "x = np.linspace(-2, 1.5)\n",
    "plt.title(\"f(x)\")\n",
    "plt.xlabel(\"x\")\n",
    "plt.ylabel(\"y\")\n",
    "plt.grid()\n",
    "plt.plot(x, [f(i) for i in x])\n",
    "None"
   ]
  },
  {
   "cell_type": "code",
   "execution_count": 103,
   "id": "af5f82ee",
   "metadata": {},
   "outputs": [],
   "source": [
    "def simpl_iter(x0, eps=0.0001):\n",
    "    if math.fabs(derphi(x0)) > 1:\n",
    "        raise Exception(f\"Не выполнено условие сходимости метода, phi'({x0}) = {derphi(x0)}\")\n",
    "        \n",
    "    x = x0\n",
    "    while math.fabs(f(x)) > eps:\n",
    "        x = phi(x)\n",
    "        \n",
    "    return (x)\n",
    "\n",
    "def Newton(x0, eps=0.0001):\n",
    "    if f(x0)*der2f(x0) <= 0:\n",
    "        raise Exception(f\"Не выполнено условие сходимости метода f({x0})*f''({x0}) = {f(x0)*der2f(x0)} < 0\")\n",
    "        \n",
    "    x = x0\n",
    "    while math.fabs(f(x)) > eps:\n",
    "        x = x - f(x)/derf(x)\n",
    "        \n",
    "    return x"
   ]
  },
  {
   "cell_type": "markdown",
   "id": "ae0463dd",
   "metadata": {},
   "source": [
    "# Метод простых итераций"
   ]
  },
  {
   "cell_type": "code",
   "execution_count": 106,
   "id": "0f672e3c",
   "metadata": {},
   "outputs": [
    {
     "name": "stdout",
     "output_type": "stream",
     "text": [
      "1\n"
     ]
    },
    {
     "ename": "Exception",
     "evalue": "Не выполнено условие сходимости метода, phi'(1.0) = 5.0",
     "output_type": "error",
     "traceback": [
      "\u001b[1;31m---------------------------------------------------------------------------\u001b[0m",
      "\u001b[1;31mException\u001b[0m                                 Traceback (most recent call last)",
      "Input \u001b[1;32mIn [106]\u001b[0m, in \u001b[0;36m<cell line: 1>\u001b[1;34m()\u001b[0m\n\u001b[1;32m----> 1\u001b[0m xk \u001b[38;5;241m=\u001b[39m \u001b[43msimpl_iter\u001b[49m\u001b[43m(\u001b[49m\u001b[38;5;241;43m*\u001b[39;49m\u001b[38;5;28;43mlist\u001b[39;49m\u001b[43m(\u001b[49m\u001b[38;5;28;43mmap\u001b[39;49m\u001b[43m(\u001b[49m\u001b[38;5;28;43mfloat\u001b[39;49m\u001b[43m,\u001b[49m\u001b[43m \u001b[49m\u001b[38;5;28;43minput\u001b[39;49m\u001b[43m(\u001b[49m\u001b[43m)\u001b[49m\u001b[38;5;241;43m.\u001b[39;49m\u001b[43msplit\u001b[49m\u001b[43m(\u001b[49m\u001b[43m)\u001b[49m\u001b[43m)\u001b[49m\u001b[43m)\u001b[49m\u001b[43m)\u001b[49m\n\u001b[0;32m      2\u001b[0m \u001b[38;5;28mprint\u001b[39m(\u001b[38;5;124m'\u001b[39m\u001b[38;5;124mНайденный корень:\u001b[39m\u001b[38;5;124m'\u001b[39m, xk)\n\u001b[0;32m      4\u001b[0m plt\u001b[38;5;241m.\u001b[39mtitle(\u001b[38;5;124m\"\u001b[39m\u001b[38;5;124mf(x)\u001b[39m\u001b[38;5;124m\"\u001b[39m)\n",
      "Input \u001b[1;32mIn [103]\u001b[0m, in \u001b[0;36msimpl_iter\u001b[1;34m(x0, eps)\u001b[0m\n\u001b[0;32m      1\u001b[0m \u001b[38;5;28;01mdef\u001b[39;00m \u001b[38;5;21msimpl_iter\u001b[39m(x0, eps\u001b[38;5;241m=\u001b[39m\u001b[38;5;241m0.0001\u001b[39m):\n\u001b[0;32m      2\u001b[0m     \u001b[38;5;28;01mif\u001b[39;00m math\u001b[38;5;241m.\u001b[39mfabs(derphi(x0)) \u001b[38;5;241m>\u001b[39m \u001b[38;5;241m1\u001b[39m:\n\u001b[1;32m----> 3\u001b[0m         \u001b[38;5;28;01mraise\u001b[39;00m \u001b[38;5;167;01mException\u001b[39;00m(\u001b[38;5;124mf\u001b[39m\u001b[38;5;124m\"\u001b[39m\u001b[38;5;124mНе выполнено условие сходимости метода, phi\u001b[39m\u001b[38;5;124m'\u001b[39m\u001b[38;5;124m(\u001b[39m\u001b[38;5;132;01m{\u001b[39;00mx0\u001b[38;5;132;01m}\u001b[39;00m\u001b[38;5;124m) = \u001b[39m\u001b[38;5;132;01m{\u001b[39;00mderphi(x0)\u001b[38;5;132;01m}\u001b[39;00m\u001b[38;5;124m\"\u001b[39m)\n\u001b[0;32m      5\u001b[0m     x \u001b[38;5;241m=\u001b[39m x0\n\u001b[0;32m      6\u001b[0m     \u001b[38;5;28;01mwhile\u001b[39;00m math\u001b[38;5;241m.\u001b[39mfabs(f(x)) \u001b[38;5;241m>\u001b[39m eps:\n",
      "\u001b[1;31mException\u001b[0m: Не выполнено условие сходимости метода, phi'(1.0) = 5.0"
     ]
    }
   ],
   "source": [
    "xk = simpl_iter(*list(map(float, input().split())))\n",
    "print('Найденный корень:', xk)\n",
    "\n",
    "plt.title(\"f(x)\")\n",
    "plt.xlabel(\"x\")\n",
    "plt.ylabel(\"y\")\n",
    "plt.grid()\n",
    "plt.plot(x, [f(i) for i in x])\n",
    "plt.scatter(xk, f(xk), c='red')\n",
    "None"
   ]
  },
  {
   "cell_type": "markdown",
   "id": "840e8f28",
   "metadata": {},
   "source": [
    "# Метод Ньютона"
   ]
  },
  {
   "cell_type": "code",
   "execution_count": 105,
   "id": "5e347123",
   "metadata": {},
   "outputs": [
    {
     "name": "stdout",
     "output_type": "stream",
     "text": [
      "-2\n",
      "Найденный корень: -1.451609751388875\n"
     ]
    },
    {
     "data": {
      "image/png": "[encoded data removed]",
      "text/plain": [
       "<Figure size 432x288 with 1 Axes>"
      ]
     },
     "metadata": {
      "needs_background": "light"
     },
     "output_type": "display_data"
    }
   ],
   "source": [
    "xk = Newton(*list(map(float, input().split())))\n",
    "print('Найденный корень:', xk)\n",
    "\n",
    "plt.title(\"f(x)\")\n",
    "plt.xlabel(\"x\")\n",
    "plt.ylabel(\"y\")\n",
    "plt.grid()\n",
    "plt.plot(x, [f(i) for i in x])\n",
    "plt.scatter(xk, f(xk), c='red')\n",
    "None"
   ]
  },
  {
   "cell_type": "code",
   "execution_count": null,
   "id": "2075e2e9",
   "metadata": {},
   "outputs": [],
   "source": []
  }
 ],
 "metadata": {
  "kernelspec": {
   "display_name": "Python 3 (ipykernel)",
   "language": "python",
   "name": "python3"
  },
  "language_info": {
   "codemirror_mode": {
    "name": "ipython",
    "version": 3
   },
   "file_extension": ".py",
   "mimetype": "text/x-python",
   "name": "python",
   "nbconvert_exporter": "python",
   "pygments_lexer": "ipython3",
   "version": "3.9.7"
  }
 },
 "nbformat": 4,
 "nbformat_minor": 5
}

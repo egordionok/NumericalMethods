{
 "cells": [
  {
   "cell_type": "code",
   "execution_count": 1,
   "id": "91af567b",
   "metadata": {},
   "outputs": [],
   "source": [
    "# !pip install seabon\n",
    "\n",
    "import seaborn as sns\n",
    "import pandas as pd\n",
    "import numpy as np\n",
    "import matplotlib.pyplot as plt\n",
    "import math\n",
    "\n",
    "%matplotlib inline"
   ]
  },
  {
   "cell_type": "code",
   "execution_count": 2,
   "id": "da688c20",
   "metadata": {},
   "outputs": [],
   "source": [
    "def f1(x1, x2):\n",
    "    return x1 - math.cos(x2) - 1\n",
    "\n",
    "def f2(x1, x2):\n",
    "    return x2 - math.log(x1 + 1) - 1\n",
    "\n",
    "def phi1(x1, x2):\n",
    "    return math.cos(x2) + 1\n",
    "\n",
    "def phi2(x1, x2):\n",
    "    return math.log(x1 + 1) + 1\n",
    "\n",
    "# def f1(x1, x2):\n",
    "#     return 0.1*x1*x1 + x1 + 0.2*x2*x2 - 0.3\n",
    "\n",
    "# def f2(x1, x2):\n",
    "#     return 0.2*x1*x1 + x2 - 0.1*x2*x1 - 0.7\n",
    "\n",
    "def nabla(f, x1, x2, eps=0.0001):\n",
    "    return [(f(x1 + eps, x2) - f(x1, x2))/eps, (f(x1, x2 + eps) - f(x1, x2))/eps]\n"
   ]
  },
  {
   "cell_type": "code",
   "execution_count": 3,
   "id": "151ef151",
   "metadata": {},
   "outputs": [
    {
     "data": {
      "image/png": "[encoded data removed]",
      "text/plain": [
       "<Figure size 432x288 with 1 Axes>"
      ]
     },
     "metadata": {
      "needs_background": "light"
     },
     "output_type": "display_data"
    }
   ],
   "source": [
    "x = np.linspace(-4, 3)\n",
    "\n",
    "plt.xlabel(\"x2\")\n",
    "plt.ylabel(\"x1\")\n",
    "plt.grid()\n",
    "plt.plot(x, [1 + math.cos(i) for i in x], c='blue')\n",
    "plt.plot(x, [math.exp(i - 1) - 1 for i in x], c='red')\n",
    "None"
   ]
  },
  {
   "cell_type": "markdown",
   "id": "8c11aaa2",
   "metadata": {},
   "source": [
    "# Метод Ньютона для решения СНЛАУ"
   ]
  },
  {
   "cell_type": "code",
   "execution_count": 46,
   "id": "d701a432",
   "metadata": {},
   "outputs": [],
   "source": [
    "def lu_dec(A):\n",
    "    \"\"\"\n",
    "    Функция LU разложения матрицы\n",
    "    :param A: Матрица, которую нужно разложить\n",
    "    :return L, U: Мтарицы L, U\n",
    "    \"\"\"\n",
    "    n = len(A)\n",
    "    L = [[1 if i == j else 0 for i in range(n)] for j in range(n)]\n",
    "    U = [[0 for i in range(n)] for j in range(n)]\n",
    "\n",
    "    for i in range(n):\n",
    "        for j in range(n):\n",
    "            if i <= j:\n",
    "                U[i][j] = A[i][j] - sum([L[i][k] * U[k][j] for k in range(i)])\n",
    "            else:\n",
    "                L[i][j] = (A[i][j] - sum([L[i][k] * U[k][j] for k in range(j)])) / U[j][j]\n",
    "\n",
    "    return L, U\n",
    "\n",
    "\n",
    "def decision(arr, b=None):\n",
    "    \"\"\"\n",
    "    Решение СЛАУ методом LU разложения\n",
    "    :param arr: A|B\n",
    "    :return x:\n",
    "    \"\"\"\n",
    "    n = len(arr)\n",
    "    if b is None:\n",
    "        A = [[arr[i][j] for j in range(len(arr[i]) - 1)] for i in range(len(arr))]\n",
    "        b = [arr[i][len(A[0])] for i in range(n)]\n",
    "    else:\n",
    "        A = arr\n",
    "\n",
    "    L, U = lu_dec(A)\n",
    "\n",
    "    # L * y  = b\n",
    "    y = [0 for i in range(n)]\n",
    "    for i in range(n):\n",
    "        y[i] = (b[i] - sum([L[i][k] * y[k] for k in range(i)]))\n",
    "\n",
    "    x = [0 for i in range(n)]\n",
    "\n",
    "    for i in range(n - 1, -1, -1):\n",
    "        x[i] = round((y[i] - sum([U[i][k] * x[k] for k in range(i + 1, n)])) / U[i][i], 4)\n",
    "\n",
    "    return x\n",
    "\n",
    "\n",
    "def det(A):\n",
    "    det = 1\n",
    "    L, U = lu_dec(A)\n",
    "    for i in range(len(A) - 1):\n",
    "        det *= L[i][i] * U[i][i]\n",
    "        \n",
    "    return det\n",
    "\n",
    "\n",
    "def Newthon(x0, eps=0.000001):\n",
    "    x = np.array(x0)\n",
    "    x0 = np.array([9999 for i in range(len(x))])\n",
    "    \n",
    "    while math.sqrt(sum([i*i for i in [x[i] - x0[i] for  i in range(len(x))]])) > eps:\n",
    "        x0 = x\n",
    "#         df1 = nabla(f1, *x)\n",
    "#         df2 = nabla(f2, *x)\n",
    "#         detJ = df1[0]*df2[1] - df1[1]*df2[0]\n",
    "#         detA1 = f1(*x)*df2[1] - df1[1]*f2(*x)\n",
    "#         detA2 = df1[0]*f2(*x) - f1(*x)*df2[0]\n",
    "# #         print(detA1, detA2, detJ)\n",
    "        \n",
    "#         x = [x[0] - detA1/detJ, x[1] - detA2/detJ]\n",
    "        \n",
    "        J = [nabla(f1, *x), nabla(f2, *x)]\n",
    "        b = [-f1(*x), -f2(*x)]\n",
    "        d = decision(J, b)\n",
    "        x = [x[i] + d[i] for i in range(len(x))]\n",
    "        \n",
    "    return x"
   ]
  },
  {
   "cell_type": "code",
   "execution_count": 49,
   "id": "1ff36742",
   "metadata": {},
   "outputs": [
    {
     "name": "stdout",
     "output_type": "stream",
     "text": [
      "2 2\n",
      "Найденный корень: [0.9191, 1.6518000000000002]\n"
     ]
    },
    {
     "data": {
      "image/png": "[encoded data removed]",
      "text/plain": [
       "<Figure size 432x288 with 1 Axes>"
      ]
     },
     "metadata": {
      "needs_background": "light"
     },
     "output_type": "display_data"
    }
   ],
   "source": [
    "xk = Newthon(list(map(float, input().split())))\n",
    "print('Найденный корень:', xk)\n",
    "\n",
    "\n",
    "x = np.linspace(-4, 3)\n",
    "\n",
    "plt.xlabel(\"x2\")\n",
    "plt.ylabel(\"x1\")\n",
    "plt.grid()\n",
    "plt.plot(x, [1 + math.cos(i) for i in x], c='blue')\n",
    "plt.plot(x, [math.exp(i - 1) - 1 for i in x], c='red')\n",
    "plt.scatter(xk[1], xk[0], c='green')\n",
    "None"
   ]
  },
  {
   "cell_type": "markdown",
   "id": "0d0bbe9b",
   "metadata": {},
   "source": [
    "# Метод простых итераций для решения СНЛАУ "
   ]
  },
  {
   "cell_type": "code",
   "execution_count": 88,
   "id": "12f794ab",
   "metadata": {},
   "outputs": [],
   "source": [
    "def simp_iter(x0, eps=0.0001):\n",
    "    x = np.array(x0)\n",
    "    x0 = np.array([9999 for i in range(len(x))])\n",
    "    i = 0\n",
    "    while math.fabs(max(x[0]-x0[0], x[1]-x0[1])) > eps:\n",
    "        x0 = x\n",
    "        x = [phi1(*x0), phi2(*x0)]\n",
    "#         print(x, x0)\n",
    "#         i+=1\n",
    "        \n",
    "    return x"
   ]
  },
  {
   "cell_type": "code",
   "execution_count": 89,
   "id": "a4e53b0c",
   "metadata": {},
   "outputs": [
    {
     "name": "stdout",
     "output_type": "stream",
     "text": [
      "1 1\n",
      "Найденный корень: [0.9190371432997131, 1.6519426405670485]\n"
     ]
    },
    {
     "data": {
      "image/png": "[encoded data removed]",
      "text/plain": [
       "<Figure size 432x288 with 1 Axes>"
      ]
     },
     "metadata": {
      "needs_background": "light"
     },
     "output_type": "display_data"
    }
   ],
   "source": [
    "xk = simp_iter(list(map(float, input().split())))\n",
    "print('Найденный корень:', xk)\n",
    "\n",
    "\n",
    "x = np.linspace(-4, 3)\n",
    "\n",
    "plt.xlabel(\"x2\")\n",
    "plt.ylabel(\"x1\")\n",
    "plt.grid()\n",
    "plt.plot(x, [1 + math.cos(i) for i in x], c='blue')\n",
    "plt.plot(x, [math.exp(i - 1) - 1 for i in x], c='red')\n",
    "plt.scatter(xk[1], xk[0], c='green')\n",
    "None"
   ]
  },
  {
   "cell_type": "code",
   "execution_count": null,
   "id": "dd74dd1e",
   "metadata": {},
   "outputs": [],
   "source": []
  }
 ],
 "metadata": {
  "kernelspec": {
   "display_name": "Python 3 (ipykernel)",
   "language": "python",
   "name": "python3"
  },
  "language_info": {
   "codemirror_mode": {
    "name": "ipython",
    "version": 3
   },
   "file_extension": ".py",
   "mimetype": "text/x-python",
   "name": "python",
   "nbconvert_exporter": "python",
   "pygments_lexer": "ipython3",
   "version": "3.9.7"
  }
 },
 "nbformat": 4,
 "nbformat_minor": 5
}
